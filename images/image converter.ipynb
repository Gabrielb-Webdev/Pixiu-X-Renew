{
 "cells": [
  {
   "cell_type": "code",
   "execution_count": 6,
   "metadata": {},
   "outputs": [
    {
     "name": "stdout",
     "output_type": "stream",
     "text": [
      "Imagen convertida: marketing.jpg -> ../images/marketing.webp\n"
     ]
    }
   ],
   "source": [
    "import os\n",
    "from PIL import Image\n",
    "\n",
    "def convert_images_to_webp(folder_path):\n",
    "    # Extensiones válidas que deseas convertir\n",
    "    valid_extensions = ['.jpg', '.jpeg', '.png', '.bmp', '.tiff']\n",
    "\n",
    "    # Iterar sobre todos los archivos en la carpeta\n",
    "    for filename in os.listdir(folder_path):\n",
    "        # Obtener la extensión del archivo\n",
    "        file_extension = os.path.splitext(filename)[1].lower()\n",
    "\n",
    "        # Si la extensión es válida, convertir la imagen a WebP\n",
    "        if file_extension in valid_extensions:\n",
    "            input_path = os.path.join(folder_path, filename)\n",
    "            output_path = os.path.join(folder_path, os.path.splitext(filename)[0] + '.webp')\n",
    "\n",
    "            # Abrir la imagen y convertirla a WebP\n",
    "            img = Image.open(input_path)\n",
    "            img.save(output_path, 'WEBP')\n",
    "            print(f\"Imagen convertida: {filename} -> {output_path}\")\n",
    "\n",
    "# Ejemplo de uso\n",
    "folder_path = \"../images/\"\n",
    "convert_images_to_webp(folder_path)\n"
   ]
  }
 ],
 "metadata": {
  "kernelspec": {
   "display_name": "Python 3",
   "language": "python",
   "name": "python3"
  },
  "language_info": {
   "codemirror_mode": {
    "name": "ipython",
    "version": 3
   },
   "file_extension": ".py",
   "mimetype": "text/x-python",
   "name": "python",
   "nbconvert_exporter": "python",
   "pygments_lexer": "ipython3",
   "version": "3.11.5"
  }
 },
 "nbformat": 4,
 "nbformat_minor": 2
}
