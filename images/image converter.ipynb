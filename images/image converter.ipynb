{
 "cells": [
  {
   "cell_type": "code",
   "execution_count": 3,
   "metadata": {},
   "outputs": [
    {
     "name": "stdout",
     "output_type": "stream",
     "text": [
      "Imagen convertida y guardada como service.png\n"
     ]
    }
   ],
   "source": [
    "from PIL import Image\n",
    "\n",
    "def webp_to_png(input_path, output_path):\n",
    "    # Abrir la imagen WEBP\n",
    "    img = Image.open(input_path)\n",
    "    \n",
    "    # Convertir y guardar como PNG\n",
    "    img.save(output_path, 'PNG')\n",
    "    print(f\"Imagen convertida y guardada como {output_path}\")\n",
    "\n",
    "# Ejemplo de uso\n",
    "webp_to_png(\"service.webp\", \"service.png\")\n"
   ]
  },
  {
   "cell_type": "code",
   "execution_count": 1,
   "metadata": {},
   "outputs": [
    {
     "name": "stdout",
     "output_type": "stream",
     "text": [
      "Imagen mejorada guardada en: service copy2.png\n"
     ]
    }
   ],
   "source": [
    "import cv2\n",
    "from PIL import Image\n",
    "import numpy as np\n",
    "\n",
    "# Función para mejorar la calidad de la imagen\n",
    "def enhance_image_quality(image_path, output_path):\n",
    "    # Cargar la imagen con OpenCV\n",
    "    image = cv2.imread(image_path)\n",
    "\n",
    "    # Convertir la imagen de BGR (formato OpenCV) a RGB (formato estándar)\n",
    "    image_rgb = cv2.cvtColor(image, cv2.COLOR_BGR2RGB)\n",
    "\n",
    "    # Usar un filtro bilateral para suavizar la imagen y reducir el ruido manteniendo los bordes\n",
    "    enhanced_image = cv2.bilateralFilter(image_rgb, d=15, sigmaColor=75, sigmaSpace=75)\n",
    "\n",
    "    # Mejorar la nitidez utilizando la técnica de \"unsharp masking\"\n",
    "    gaussian_blur = cv2.GaussianBlur(enhanced_image, (9, 9), 10.0)\n",
    "    sharpened = cv2.addWeighted(enhanced_image, 1.5, gaussian_blur, -0.5, 0)\n",
    "\n",
    "    # Convertir de nuevo a formato PIL para guardarlo\n",
    "    final_image = Image.fromarray(sharpened)\n",
    "\n",
    "    # Guardar la imagen mejorada\n",
    "    final_image.save(output_path)\n",
    "    print(f\"Imagen mejorada guardada en: {output_path}\")\n",
    "\n",
    "# Rutas de la imagen de entrada y de salida\n",
    "image_path = 'service copy.png'  # Cambia esto por la ruta de tu imagen\n",
    "output_path = 'service copy2.png'  # Cambia esto por donde quieras guardar la imagen mejorada\n",
    "\n",
    "# Mejorar la calidad de la imagen\n",
    "enhance_image_quality(image_path, output_path)\n"
   ]
  }
 ],
 "metadata": {
  "kernelspec": {
   "display_name": "Python 3",
   "language": "python",
   "name": "python3"
  },
  "language_info": {
   "codemirror_mode": {
    "name": "ipython",
    "version": 3
   },
   "file_extension": ".py",
   "mimetype": "text/x-python",
   "name": "python",
   "nbconvert_exporter": "python",
   "pygments_lexer": "ipython3",
   "version": "3.11.2"
  }
 },
 "nbformat": 4,
 "nbformat_minor": 2
}
