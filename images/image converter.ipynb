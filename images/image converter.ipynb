{
 "cells": [
  {
   "cell_type": "code",
   "execution_count": null,
   "metadata": {},
   "outputs": [],
   "source": [
    "from PIL import Image\n",
    "\n",
    "def webp_to_png(input_path, output_path):\n",
    "    # Abrir la imagen WEBP\n",
    "    img = Image.open(input_path)\n",
    "    \n",
    "    # Convertir y guardar como PNG\n",
    "    img.save(output_path, 'PNG')\n",
    "    print(f\"Imagen convertida y guardada como {output_path}\")\n",
    "\n",
    "# Ejemplo de uso\n",
    "webp_to_png(\"service.webp\", \"service.png\")\n"
   ]
  }
 ],
 "metadata": {
  "kernelspec": {
   "display_name": "Python 3",
   "language": "python",
   "name": "python3"
  },
  "language_info": {
   "codemirror_mode": {
    "name": "ipython",
    "version": 3
   },
   "file_extension": ".py",
   "mimetype": "text/x-python",
   "name": "python",
   "nbconvert_exporter": "python",
   "pygments_lexer": "ipython3",
   "version": "3.11.2"
  }
 },
 "nbformat": 4,
 "nbformat_minor": 2
}
